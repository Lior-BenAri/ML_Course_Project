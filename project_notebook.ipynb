{
 "cells": [
  {
   "cell_type": "markdown",
   "id": "482c6302",
   "metadata": {},
   "source": [
    "### Machine Lerning Course - Final Project\n",
    "#### Lior Ben Ari"
   ]
  },
  {
   "cell_type": "markdown",
   "id": "fd5009b8",
   "metadata": {},
   "source": [
    "#### All imports"
   ]
  },
  {
   "cell_type": "code",
   "execution_count": null,
   "id": "291f4667",
   "metadata": {},
   "outputs": [],
   "source": [
    "import numpy as np\n",
    "import sys\n",
    "import pandas as pd\n",
    "import matplotlib.pyplot as plt\n",
    "import seaborn as sns\n",
    "from scipy.interpolate import interp1d\n",
    "from scipy.signal import savgol_filter\n",
    "import statistics\n",
    "from sklearn.metrics import r2_score, mean_squared_error\n",
    "from sklearn.model_selection import train_test_split\n",
    "from sklearn.ensemble import RandomForestRegressor\n",
    "from sklearn.cross_decomposition import PLSRegression\n",
    "from sklearn.model_selection import GridSearchCV\n",
    "from sklearn.model_selection import KFold\n",
    "import requests\n",
    "from tqdm import tqdm\n",
    "import shutil\n",
    "import gzip"
   ]
  },
  {
   "cell_type": "markdown",
   "id": "1b7284b9",
   "metadata": {},
   "source": [
    "##### Download OSSL Dataset (if required)"
   ]
  },
  {
   "cell_type": "code",
   "execution_count": null,
   "id": "bd95dea6",
   "metadata": {},
   "outputs": [],
   "source": [
    "download_dataset = False\n",
    "\n",
    "if download_dataset:\n",
    "    url = \"https://storage.googleapis.com/soilspec4gg-public/ossl_all_L0_v1.2.csv.gz\"\n",
    "    response = requests.get(url, stream=True)\n",
    "\n",
    "    # Download data\n",
    "    with open(\"ossl_all_L0_v1.2.csv.gz\", \"wb\") as handle:\n",
    "        for data in tqdm(response.iter_content(chunk_size=8192)):\n",
    "            handle.write(data)\n",
    "\n",
    "    # Unzip file\n",
    "    with gzip.open(\"ossl_all_L0_v1.2.csv.gz\", \"rb\") as f_in:\n",
    "        with open(\"ossl_all_L0_v1.2.csv\", \"wb\") as f_out:\n",
    "            shutil.copyfileobj(f_in, f_out)\n",
    "\n",
    "    print(\"Download Completed\")\n"
   ]
  },
  {
   "cell_type": "markdown",
   "id": "96e42b55",
   "metadata": {},
   "source": [
    "##### Read dataset and get its shape"
   ]
  },
  {
   "cell_type": "code",
   "execution_count": 6,
   "id": "4cd8d56d",
   "metadata": {},
   "outputs": [
    {
     "name": "stdout",
     "output_type": "stream",
     "text": [
      "dataset shape: (135651, 2910)\n"
     ]
    }
   ],
   "source": [
    "full_dataset_df = pd.read_csv(\"ossl_all_L0_v1.2.csv\")\n",
    "print(f\"dataset shape: {full_dataset_df.shape}\")"
   ]
  }
 ],
 "metadata": {
  "kernelspec": {
   "display_name": ".venv",
   "language": "python",
   "name": "python3"
  },
  "language_info": {
   "codemirror_mode": {
    "name": "ipython",
    "version": 3
   },
   "file_extension": ".py",
   "mimetype": "text/x-python",
   "name": "python",
   "nbconvert_exporter": "python",
   "pygments_lexer": "ipython3",
   "version": "3.12.0"
  }
 },
 "nbformat": 4,
 "nbformat_minor": 5
}
